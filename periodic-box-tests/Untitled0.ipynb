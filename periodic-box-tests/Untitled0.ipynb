{
 "metadata": {
  "name": "",
  "signature": "sha256:95c583a01eb31c755a824c91f154b8046de95838a83272210db1c5638ee9ec23"
 },
 "nbformat": 3,
 "nbformat_minor": 0,
 "worksheets": [
  {
   "cells": [
    {
     "cell_type": "code",
     "collapsed": false,
     "input": [
      "import numpy as np\n",
      "\n",
      "delta_x = np.arange(-2, +2, 0.001)\n",
      "periodicBoxSize_x = 1.0\n",
      "invPeriodicBoxSize_x = 1.0 / periodicBoxSize_x\n",
      "imaged_delta_x = delta_x - np.floor(delta_x*invPeriodicBoxSize_x+0.5)*periodicBoxSize_x;"
     ],
     "language": "python",
     "metadata": {},
     "outputs": [],
     "prompt_number": 6
    },
    {
     "cell_type": "code",
     "collapsed": false,
     "input": [
      "import pylab\n",
      "pylab.plot(delta_x, imaged_delta_x, '.')\n",
      "pylab.hold(True)\n",
      "pylab.plot([-2, +2], [+0.5, +0.5], 'r-')\n",
      "pylab.plot([-2, +2], [-0.5, -0.5], 'r-')\n",
      "pylab.show()"
     ],
     "language": "python",
     "metadata": {},
     "outputs": [
      {
       "metadata": {},
       "output_type": "display_data",
       "png": "[encoded data removed]",
       "text": [
        "<matplotlib.figure.Figure at 0x105f3f710>"
       ]
      }
     ],
     "prompt_number": 7
    },
    {
     "cell_type": "code",
     "collapsed": false,
     "input": [],
     "language": "python",
     "metadata": {},
     "outputs": []
    }
   ],
   "metadata": {}
  }
 ]
}