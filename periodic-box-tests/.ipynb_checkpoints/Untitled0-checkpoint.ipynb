{
 "metadata": {
  "name": "",
  "signature": "sha256:c487f17e557d03dcceb1a101cf3b2571f17d9805b88207f79b0de9cc0d55e9e7"
 },
 "nbformat": 3,
 "nbformat_minor": 0,
 "worksheets": [
  {
   "cells": [
    {
     "cell_type": "code",
     "collapsed": false,
     "input": [
      "import numpy as np\n",
      "\n",
      "delta_x = np.arange(-2, +2, 0.01)\n",
      "periodicBoxSize_x = 1.0\n",
      "invPeriodicBoxSize_x = 1.0 / periodicBoxSize_x\n",
      "imaged_delta_x = delta_x - np.floor(delta_x*invPeriodicBoxSize_x+0.5)*periodicBoxSize_x;"
     ],
     "language": "python",
     "metadata": {},
     "outputs": [],
     "prompt_number": 6
    },
    {
     "cell_type": "code",
     "collapsed": false,
     "input": [
      "import pylab\n",
      "pylab.plot(delta_x, imaged_delta_x, '.')"
     ],
     "language": "python",
     "metadata": {},
     "outputs": [
      {
       "metadata": {},
       "output_type": "pyout",
       "prompt_number": 7,
       "text": [
        "[<matplotlib.lines.Line2D at 0x1088f7bd0>]"
       ]
      }
     ],
     "prompt_number": 7
    },
    {
     "cell_type": "code",
     "collapsed": false,
     "input": [],
     "language": "python",
     "metadata": {},
     "outputs": []
    }
   ],
   "metadata": {}
  }
 ]
}